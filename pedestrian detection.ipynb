{
 "cells": [
  {
   "cell_type": "code",
   "execution_count": null,
   "id": "3172709d",
   "metadata": {},
   "outputs": [],
   "source": [
    "import cv2\n",
    "import numpy as np\n",
    "# Create our body classifier\n",
    "body_classifier=cv2.CascadeClassifier(r\"D:\\Datascience Classes\\12th may\\Computer vision tutorial master\\Haarcascades\\haarcascade_fullbody.xml\")\n",
    "# Initiate video capture for video file\n",
    "cap=cv2.VideoCapture(r\"D:\\Datascience Classes\\12th may\\images examples\\walking.avi\")\n",
    "# Loop once video is successfully loaded\n",
    "while cap.isOpened():\n",
    "    # Read first frame\n",
    "    ret,frame=cap.read()\n",
    "    #frame = cv2.resize(frame, None,fx=0.5, fy=0.5, interpolation = cv2.INTER_LINEAR)\n",
    "    gray=cv2.cvtColor(frame,cv2.COLOR_BGR2GRAY)\n",
    "    # Pass frame to our body classifier\n",
    "    bodies=body_classifier.detectMultiScale(gray,1.2,3)\n",
    "    # Extract bounding boxes for any bodies identified\n",
    "    for (x,y,w,h) in bodies:\n",
    "        cv2.rectangle(frame,(x,y),(x+w,y+h),(0,255,255),2)\n",
    "        cv2.imshow('Pedestrians',frame)\n",
    "    if cv2.waitKey(1)==13: #13 is the Enter Key\n",
    "        break\n",
    "cap.release()\n",
    "cv2.destroyAllWindows()"
   ]
  }
 ],
 "metadata": {
  "kernelspec": {
   "display_name": "Python 3 (ipykernel)",
   "language": "python",
   "name": "python3"
  },
  "language_info": {
   "codemirror_mode": {
    "name": "ipython",
    "version": 3
   },
   "file_extension": ".py",
   "mimetype": "text/x-python",
   "name": "python",
   "nbconvert_exporter": "python",
   "pygments_lexer": "ipython3",
   "version": "3.10.11"
  }
 },
 "nbformat": 4,
 "nbformat_minor": 5
}
